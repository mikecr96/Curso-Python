{
 "cells": [
  {
   "cell_type": "code",
   "execution_count": 38,
   "metadata": {},
   "outputs": [],
   "source": [
    "def saludar(apellido, edad, nacionalidad='mexicano', nombre='Miguel'):\n",
    "    return f\"Hola amigo {nombre} {apellido} tienes {edad} años y eres {nacionalidad}\""
   ]
  },
  {
   "cell_type": "code",
   "execution_count": 39,
   "metadata": {},
   "outputs": [],
   "source": [
    "mensaje = saludar('Miguel', 'Camargo', 26, 'mexicano')"
   ]
  },
  {
   "cell_type": "code",
   "execution_count": 35,
   "metadata": {},
   "outputs": [
    {
     "name": "stdout",
     "output_type": "stream",
     "text": [
      "Hola amigo mexicano Miguel tienes Camargo años y eres 26\n"
     ]
    }
   ],
   "source": [
    "print(mensaje)"
   ]
  },
  {
   "cell_type": "code",
   "execution_count": 44,
   "metadata": {},
   "outputs": [
    {
     "data": {
      "text/plain": [
       "'Hola amigo Juan Camargo tienes 26 años y eres japonés'"
      ]
     },
     "execution_count": 44,
     "metadata": {},
     "output_type": "execute_result"
    }
   ],
   "source": [
    "# PASO DE PARÁMETROS POR REFERENCIA\n",
    "saludar(edad=26, apellido='Camargo', nacionalidad='japonés', nombre='Juan')"
   ]
  },
  {
   "cell_type": "markdown",
   "metadata": {},
   "source": [
    "### Loops"
   ]
  },
  {
   "cell_type": "markdown",
   "metadata": {},
   "source": [
    "#### FOR"
   ]
  },
  {
   "cell_type": "code",
   "execution_count": 52,
   "metadata": {},
   "outputs": [
    {
     "data": {
      "text/plain": [
       "[6, 7, 8, 9, 10]"
      ]
     },
     "execution_count": 52,
     "metadata": {},
     "output_type": "execute_result"
    }
   ],
   "source": [
    "list(range(6, 11, 1))"
   ]
  },
  {
   "cell_type": "code",
   "execution_count": 60,
   "metadata": {},
   "outputs": [
    {
     "name": "stdout",
     "output_type": "stream",
     "text": [
      "Colorea\n",
      "Colorea\n",
      "Colorea\n",
      "Colorea\n",
      "Colorea\n",
      "Colorea\n",
      "Colorea\n",
      "Colorea\n",
      "Colorea\n",
      "Colorea\n"
     ]
    }
   ],
   "source": [
    "# Saludar 10 veces\n",
    "for _ in range(10):\n",
    "    print('Colorea')"
   ]
  },
  {
   "cell_type": "code",
   "execution_count": 61,
   "metadata": {},
   "outputs": [
    {
     "name": "stdout",
     "output_type": "stream",
     "text": [
      "Hola amigo mexicano Miguel tienes Camargo años y eres 26\n"
     ]
    }
   ],
   "source": [
    "print(mensaje)"
   ]
  },
  {
   "cell_type": "code",
   "execution_count": 68,
   "metadata": {},
   "outputs": [
    {
     "name": "stdout",
     "output_type": "stream",
     "text": [
      "Hola amigo mexicano Miguel tienes Camargo años y eres 26"
     ]
    }
   ],
   "source": [
    "for i in range(len(mensaje)):\n",
    "    print(mensaje[i], end='')"
   ]
  },
  {
   "cell_type": "code",
   "execution_count": null,
   "metadata": {},
   "outputs": [],
   "source": []
  }
 ],
 "metadata": {
  "kernelspec": {
   "display_name": "Python 3",
   "language": "python",
   "name": "python3"
  },
  "language_info": {
   "codemirror_mode": {
    "name": "ipython",
    "version": 3
   },
   "file_extension": ".py",
   "mimetype": "text/x-python",
   "name": "python",
   "nbconvert_exporter": "python",
   "pygments_lexer": "ipython3",
   "version": "3.11.4"
  }
 },
 "nbformat": 4,
 "nbformat_minor": 2
}
